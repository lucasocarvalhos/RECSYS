{
  "nbformat": 4,
  "nbformat_minor": 0,
  "metadata": {
    "colab": {
      "name": "Intro a sistemas de recomendação em Python",
      "provenance": [],
      "collapsed_sections": [
        "N_9b7xfKY-ZZ",
        "rT992IL8cVoa",
        "gx4PVWsGeq3w",
        "nAaGcO0njDwp"
      ],
      "authorship_tag": "ABX9TyOX0ZbuzD3vMq/wALkcHYNc",
      "include_colab_link": true
    },
    "kernelspec": {
      "name": "python3",
      "display_name": "Python 3"
    },
    "language_info": {
      "name": "python"
    }
  },
  "cells": [
    {
      "cell_type": "markdown",
      "metadata": {
        "id": "view-in-github",
        "colab_type": "text"
      },
      "source": [
        "<a href=\"https://colab.research.google.com/github/lucasocarvalhos/RECSYS/blob/main/Intro_a_sistemas_de_recomenda%C3%A7%C3%A3o_em_Python.ipynb\" target=\"_parent\"><img src=\"https://colab.research.google.com/assets/colab-badge.svg\" alt=\"Open In Colab\"/></a>"
      ]
    },
    {
      "cell_type": "code",
      "metadata": {
        "id": "yIT_015ynfjw",
        "colab": {
          "base_uri": "https://localhost:8080/",
          "height": 234
        },
        "outputId": "67a27134-934b-49ea-9d41-803ec697bb92"
      },
      "source": [
        "import pandas as pd\n",
        "\n",
        "filmes = pd.read_csv('movies.csv')\n",
        "\n",
        "filmes.columns = ['filmeId', 'titulo', 'genero']\n",
        "\n",
        "filmes.set_index('filmeId', inplace = True)\n",
        "\n",
        "filmes.head()"
      ],
      "execution_count": 1,
      "outputs": [
        {
          "output_type": "execute_result",
          "data": {
            "text/html": [
              "<div>\n",
              "<style scoped>\n",
              "    .dataframe tbody tr th:only-of-type {\n",
              "        vertical-align: middle;\n",
              "    }\n",
              "\n",
              "    .dataframe tbody tr th {\n",
              "        vertical-align: top;\n",
              "    }\n",
              "\n",
              "    .dataframe thead th {\n",
              "        text-align: right;\n",
              "    }\n",
              "</style>\n",
              "<table border=\"1\" class=\"dataframe\">\n",
              "  <thead>\n",
              "    <tr style=\"text-align: right;\">\n",
              "      <th></th>\n",
              "      <th>titulo</th>\n",
              "      <th>genero</th>\n",
              "    </tr>\n",
              "    <tr>\n",
              "      <th>filmeId</th>\n",
              "      <th></th>\n",
              "      <th></th>\n",
              "    </tr>\n",
              "  </thead>\n",
              "  <tbody>\n",
              "    <tr>\n",
              "      <th>1</th>\n",
              "      <td>Toy Story (1995)</td>\n",
              "      <td>Adventure|Animation|Children|Comedy|Fantasy</td>\n",
              "    </tr>\n",
              "    <tr>\n",
              "      <th>2</th>\n",
              "      <td>Jumanji (1995)</td>\n",
              "      <td>Adventure|Children|Fantasy</td>\n",
              "    </tr>\n",
              "    <tr>\n",
              "      <th>3</th>\n",
              "      <td>Grumpier Old Men (1995)</td>\n",
              "      <td>Comedy|Romance</td>\n",
              "    </tr>\n",
              "    <tr>\n",
              "      <th>4</th>\n",
              "      <td>Waiting to Exhale (1995)</td>\n",
              "      <td>Comedy|Drama|Romance</td>\n",
              "    </tr>\n",
              "    <tr>\n",
              "      <th>5</th>\n",
              "      <td>Father of the Bride Part II (1995)</td>\n",
              "      <td>Comedy</td>\n",
              "    </tr>\n",
              "  </tbody>\n",
              "</table>\n",
              "</div>"
            ],
            "text/plain": [
              "                                     titulo                                       genero\n",
              "filmeId                                                                                 \n",
              "1                          Toy Story (1995)  Adventure|Animation|Children|Comedy|Fantasy\n",
              "2                            Jumanji (1995)                   Adventure|Children|Fantasy\n",
              "3                   Grumpier Old Men (1995)                               Comedy|Romance\n",
              "4                  Waiting to Exhale (1995)                         Comedy|Drama|Romance\n",
              "5        Father of the Bride Part II (1995)                                       Comedy"
            ]
          },
          "metadata": {},
          "execution_count": 1
        }
      ]
    },
    {
      "cell_type": "code",
      "metadata": {
        "colab": {
          "base_uri": "https://localhost:8080/",
          "height": 203
        },
        "id": "ou0rYsiFXLZS",
        "outputId": "cbffbfc3-16fe-4527-e81a-43b85347202b"
      },
      "source": [
        "notas = pd.read_csv('ratings.csv')\n",
        "\n",
        "notas.columns = ['usuarioId', 'filmeId', 'nota', 'momento']\n",
        "\n",
        "notas.head()"
      ],
      "execution_count": 2,
      "outputs": [
        {
          "output_type": "execute_result",
          "data": {
            "text/html": [
              "<div>\n",
              "<style scoped>\n",
              "    .dataframe tbody tr th:only-of-type {\n",
              "        vertical-align: middle;\n",
              "    }\n",
              "\n",
              "    .dataframe tbody tr th {\n",
              "        vertical-align: top;\n",
              "    }\n",
              "\n",
              "    .dataframe thead th {\n",
              "        text-align: right;\n",
              "    }\n",
              "</style>\n",
              "<table border=\"1\" class=\"dataframe\">\n",
              "  <thead>\n",
              "    <tr style=\"text-align: right;\">\n",
              "      <th></th>\n",
              "      <th>usuarioId</th>\n",
              "      <th>filmeId</th>\n",
              "      <th>nota</th>\n",
              "      <th>momento</th>\n",
              "    </tr>\n",
              "  </thead>\n",
              "  <tbody>\n",
              "    <tr>\n",
              "      <th>0</th>\n",
              "      <td>1</td>\n",
              "      <td>1</td>\n",
              "      <td>4.0</td>\n",
              "      <td>964982703</td>\n",
              "    </tr>\n",
              "    <tr>\n",
              "      <th>1</th>\n",
              "      <td>1</td>\n",
              "      <td>3</td>\n",
              "      <td>4.0</td>\n",
              "      <td>964981247</td>\n",
              "    </tr>\n",
              "    <tr>\n",
              "      <th>2</th>\n",
              "      <td>1</td>\n",
              "      <td>6</td>\n",
              "      <td>4.0</td>\n",
              "      <td>964982224</td>\n",
              "    </tr>\n",
              "    <tr>\n",
              "      <th>3</th>\n",
              "      <td>1</td>\n",
              "      <td>47</td>\n",
              "      <td>5.0</td>\n",
              "      <td>964983815</td>\n",
              "    </tr>\n",
              "    <tr>\n",
              "      <th>4</th>\n",
              "      <td>1</td>\n",
              "      <td>50</td>\n",
              "      <td>5.0</td>\n",
              "      <td>964982931</td>\n",
              "    </tr>\n",
              "  </tbody>\n",
              "</table>\n",
              "</div>"
            ],
            "text/plain": [
              "   usuarioId  filmeId  nota    momento\n",
              "0          1        1   4.0  964982703\n",
              "1          1        3   4.0  964981247\n",
              "2          1        6   4.0  964982224\n",
              "3          1       47   5.0  964983815\n",
              "4          1       50   5.0  964982931"
            ]
          },
          "metadata": {},
          "execution_count": 2
        }
      ]
    },
    {
      "cell_type": "code",
      "metadata": {
        "colab": {
          "base_uri": "https://localhost:8080/",
          "height": 295
        },
        "id": "EOkv5_B1XbGY",
        "outputId": "3c229055-8dd5-45d3-b988-a6f35de092ba"
      },
      "source": [
        "notas.describe()"
      ],
      "execution_count": 3,
      "outputs": [
        {
          "output_type": "execute_result",
          "data": {
            "text/html": [
              "<div>\n",
              "<style scoped>\n",
              "    .dataframe tbody tr th:only-of-type {\n",
              "        vertical-align: middle;\n",
              "    }\n",
              "\n",
              "    .dataframe tbody tr th {\n",
              "        vertical-align: top;\n",
              "    }\n",
              "\n",
              "    .dataframe thead th {\n",
              "        text-align: right;\n",
              "    }\n",
              "</style>\n",
              "<table border=\"1\" class=\"dataframe\">\n",
              "  <thead>\n",
              "    <tr style=\"text-align: right;\">\n",
              "      <th></th>\n",
              "      <th>usuarioId</th>\n",
              "      <th>filmeId</th>\n",
              "      <th>nota</th>\n",
              "      <th>momento</th>\n",
              "    </tr>\n",
              "  </thead>\n",
              "  <tbody>\n",
              "    <tr>\n",
              "      <th>count</th>\n",
              "      <td>100836.000000</td>\n",
              "      <td>100836.000000</td>\n",
              "      <td>100836.000000</td>\n",
              "      <td>1.008360e+05</td>\n",
              "    </tr>\n",
              "    <tr>\n",
              "      <th>mean</th>\n",
              "      <td>326.127564</td>\n",
              "      <td>19435.295718</td>\n",
              "      <td>3.501557</td>\n",
              "      <td>1.205946e+09</td>\n",
              "    </tr>\n",
              "    <tr>\n",
              "      <th>std</th>\n",
              "      <td>182.618491</td>\n",
              "      <td>35530.987199</td>\n",
              "      <td>1.042529</td>\n",
              "      <td>2.162610e+08</td>\n",
              "    </tr>\n",
              "    <tr>\n",
              "      <th>min</th>\n",
              "      <td>1.000000</td>\n",
              "      <td>1.000000</td>\n",
              "      <td>0.500000</td>\n",
              "      <td>8.281246e+08</td>\n",
              "    </tr>\n",
              "    <tr>\n",
              "      <th>25%</th>\n",
              "      <td>177.000000</td>\n",
              "      <td>1199.000000</td>\n",
              "      <td>3.000000</td>\n",
              "      <td>1.019124e+09</td>\n",
              "    </tr>\n",
              "    <tr>\n",
              "      <th>50%</th>\n",
              "      <td>325.000000</td>\n",
              "      <td>2991.000000</td>\n",
              "      <td>3.500000</td>\n",
              "      <td>1.186087e+09</td>\n",
              "    </tr>\n",
              "    <tr>\n",
              "      <th>75%</th>\n",
              "      <td>477.000000</td>\n",
              "      <td>8122.000000</td>\n",
              "      <td>4.000000</td>\n",
              "      <td>1.435994e+09</td>\n",
              "    </tr>\n",
              "    <tr>\n",
              "      <th>max</th>\n",
              "      <td>610.000000</td>\n",
              "      <td>193609.000000</td>\n",
              "      <td>5.000000</td>\n",
              "      <td>1.537799e+09</td>\n",
              "    </tr>\n",
              "  </tbody>\n",
              "</table>\n",
              "</div>"
            ],
            "text/plain": [
              "           usuarioId        filmeId           nota       momento\n",
              "count  100836.000000  100836.000000  100836.000000  1.008360e+05\n",
              "mean      326.127564   19435.295718       3.501557  1.205946e+09\n",
              "std       182.618491   35530.987199       1.042529  2.162610e+08\n",
              "min         1.000000       1.000000       0.500000  8.281246e+08\n",
              "25%       177.000000    1199.000000       3.000000  1.019124e+09\n",
              "50%       325.000000    2991.000000       3.500000  1.186087e+09\n",
              "75%       477.000000    8122.000000       4.000000  1.435994e+09\n",
              "max       610.000000  193609.000000       5.000000  1.537799e+09"
            ]
          },
          "metadata": {},
          "execution_count": 3
        }
      ]
    },
    {
      "cell_type": "markdown",
      "metadata": {
        "id": "N_9b7xfKY-ZZ"
      },
      "source": [
        "## Primeira tentativa de recomendação - Por popularidade"
      ]
    },
    {
      "cell_type": "markdown",
      "metadata": {
        "id": "LQ9vlJlWaLrS"
      },
      "source": [
        "A primeira tentativa de recomendação consiste em descobrir quais são os filmes mais populares, ou seja, os filmes vistos pela maior quantidade de pessoas.\n",
        "\n",
        "Estamos considerando que, se o filme é muito popular, então muitas pessoas que ainda não o viram terão interesse em assisti-lo em algum momento."
      ]
    },
    {
      "cell_type": "code",
      "metadata": {
        "colab": {
          "base_uri": "https://localhost:8080/"
        },
        "id": "HhX_vDFyXlfF",
        "outputId": "357639f0-d738-45ec-8d4f-c84f41cf76e6"
      },
      "source": [
        "# Quantas vezes o filme foi visto\n",
        "\n",
        "total_de_votos = notas['filmeId'].value_counts()\n",
        "total_de_votos.head()"
      ],
      "execution_count": 4,
      "outputs": [
        {
          "output_type": "execute_result",
          "data": {
            "text/plain": [
              "356     329\n",
              "318     317\n",
              "296     307\n",
              "593     279\n",
              "2571    278\n",
              "Name: filmeId, dtype: int64"
            ]
          },
          "metadata": {},
          "execution_count": 4
        }
      ]
    },
    {
      "cell_type": "code",
      "metadata": {
        "colab": {
          "base_uri": "https://localhost:8080/"
        },
        "id": "eqdt58TfZhKV",
        "outputId": "cca73392-c574-4899-f50a-ac0912561f4a"
      },
      "source": [
        "filmes.loc[356] # O filme mais popular"
      ],
      "execution_count": 5,
      "outputs": [
        {
          "output_type": "execute_result",
          "data": {
            "text/plain": [
              "titulo         Forrest Gump (1994)\n",
              "genero    Comedy|Drama|Romance|War\n",
              "Name: 356, dtype: object"
            ]
          },
          "metadata": {},
          "execution_count": 5
        }
      ]
    },
    {
      "cell_type": "code",
      "metadata": {
        "colab": {
          "base_uri": "https://localhost:8080/",
          "height": 0
        },
        "id": "NPfdIOQBZ3aK",
        "outputId": "bee776d3-e0f0-47fe-ec90-f411703fedb1"
      },
      "source": [
        "filmes['total_de_votos'] = total_de_votos\n",
        "filmes.head()"
      ],
      "execution_count": 6,
      "outputs": [
        {
          "output_type": "execute_result",
          "data": {
            "text/html": [
              "<div>\n",
              "<style scoped>\n",
              "    .dataframe tbody tr th:only-of-type {\n",
              "        vertical-align: middle;\n",
              "    }\n",
              "\n",
              "    .dataframe tbody tr th {\n",
              "        vertical-align: top;\n",
              "    }\n",
              "\n",
              "    .dataframe thead th {\n",
              "        text-align: right;\n",
              "    }\n",
              "</style>\n",
              "<table border=\"1\" class=\"dataframe\">\n",
              "  <thead>\n",
              "    <tr style=\"text-align: right;\">\n",
              "      <th></th>\n",
              "      <th>titulo</th>\n",
              "      <th>genero</th>\n",
              "      <th>total_de_votos</th>\n",
              "    </tr>\n",
              "    <tr>\n",
              "      <th>filmeId</th>\n",
              "      <th></th>\n",
              "      <th></th>\n",
              "      <th></th>\n",
              "    </tr>\n",
              "  </thead>\n",
              "  <tbody>\n",
              "    <tr>\n",
              "      <th>1</th>\n",
              "      <td>Toy Story (1995)</td>\n",
              "      <td>Adventure|Animation|Children|Comedy|Fantasy</td>\n",
              "      <td>215.0</td>\n",
              "    </tr>\n",
              "    <tr>\n",
              "      <th>2</th>\n",
              "      <td>Jumanji (1995)</td>\n",
              "      <td>Adventure|Children|Fantasy</td>\n",
              "      <td>110.0</td>\n",
              "    </tr>\n",
              "    <tr>\n",
              "      <th>3</th>\n",
              "      <td>Grumpier Old Men (1995)</td>\n",
              "      <td>Comedy|Romance</td>\n",
              "      <td>52.0</td>\n",
              "    </tr>\n",
              "    <tr>\n",
              "      <th>4</th>\n",
              "      <td>Waiting to Exhale (1995)</td>\n",
              "      <td>Comedy|Drama|Romance</td>\n",
              "      <td>7.0</td>\n",
              "    </tr>\n",
              "    <tr>\n",
              "      <th>5</th>\n",
              "      <td>Father of the Bride Part II (1995)</td>\n",
              "      <td>Comedy</td>\n",
              "      <td>49.0</td>\n",
              "    </tr>\n",
              "  </tbody>\n",
              "</table>\n",
              "</div>"
            ],
            "text/plain": [
              "                                     titulo  ... total_de_votos\n",
              "filmeId                                      ...               \n",
              "1                          Toy Story (1995)  ...          215.0\n",
              "2                            Jumanji (1995)  ...          110.0\n",
              "3                   Grumpier Old Men (1995)  ...           52.0\n",
              "4                  Waiting to Exhale (1995)  ...            7.0\n",
              "5        Father of the Bride Part II (1995)  ...           49.0\n",
              "\n",
              "[5 rows x 3 columns]"
            ]
          },
          "metadata": {},
          "execution_count": 6
        }
      ]
    },
    {
      "cell_type": "code",
      "metadata": {
        "colab": {
          "base_uri": "https://localhost:8080/",
          "height": 0
        },
        "id": "VHFLJy7ha2MC",
        "outputId": "40e0fdef-5398-4536-a7c6-9349afc520f6"
      },
      "source": [
        "filmes.sort_values('total_de_votos', ascending = False).head() # Top 5 de filmes mais vistos que recomendaríamos a alguém"
      ],
      "execution_count": 7,
      "outputs": [
        {
          "output_type": "execute_result",
          "data": {
            "text/html": [
              "<div>\n",
              "<style scoped>\n",
              "    .dataframe tbody tr th:only-of-type {\n",
              "        vertical-align: middle;\n",
              "    }\n",
              "\n",
              "    .dataframe tbody tr th {\n",
              "        vertical-align: top;\n",
              "    }\n",
              "\n",
              "    .dataframe thead th {\n",
              "        text-align: right;\n",
              "    }\n",
              "</style>\n",
              "<table border=\"1\" class=\"dataframe\">\n",
              "  <thead>\n",
              "    <tr style=\"text-align: right;\">\n",
              "      <th></th>\n",
              "      <th>titulo</th>\n",
              "      <th>genero</th>\n",
              "      <th>total_de_votos</th>\n",
              "    </tr>\n",
              "    <tr>\n",
              "      <th>filmeId</th>\n",
              "      <th></th>\n",
              "      <th></th>\n",
              "      <th></th>\n",
              "    </tr>\n",
              "  </thead>\n",
              "  <tbody>\n",
              "    <tr>\n",
              "      <th>356</th>\n",
              "      <td>Forrest Gump (1994)</td>\n",
              "      <td>Comedy|Drama|Romance|War</td>\n",
              "      <td>329.0</td>\n",
              "    </tr>\n",
              "    <tr>\n",
              "      <th>318</th>\n",
              "      <td>Shawshank Redemption, The (1994)</td>\n",
              "      <td>Crime|Drama</td>\n",
              "      <td>317.0</td>\n",
              "    </tr>\n",
              "    <tr>\n",
              "      <th>296</th>\n",
              "      <td>Pulp Fiction (1994)</td>\n",
              "      <td>Comedy|Crime|Drama|Thriller</td>\n",
              "      <td>307.0</td>\n",
              "    </tr>\n",
              "    <tr>\n",
              "      <th>593</th>\n",
              "      <td>Silence of the Lambs, The (1991)</td>\n",
              "      <td>Crime|Horror|Thriller</td>\n",
              "      <td>279.0</td>\n",
              "    </tr>\n",
              "    <tr>\n",
              "      <th>2571</th>\n",
              "      <td>Matrix, The (1999)</td>\n",
              "      <td>Action|Sci-Fi|Thriller</td>\n",
              "      <td>278.0</td>\n",
              "    </tr>\n",
              "  </tbody>\n",
              "</table>\n",
              "</div>"
            ],
            "text/plain": [
              "                                   titulo  ... total_de_votos\n",
              "filmeId                                    ...               \n",
              "356                   Forrest Gump (1994)  ...          329.0\n",
              "318      Shawshank Redemption, The (1994)  ...          317.0\n",
              "296                   Pulp Fiction (1994)  ...          307.0\n",
              "593      Silence of the Lambs, The (1991)  ...          279.0\n",
              "2571                   Matrix, The (1999)  ...          278.0\n",
              "\n",
              "[5 rows x 3 columns]"
            ]
          },
          "metadata": {},
          "execution_count": 7
        }
      ]
    },
    {
      "cell_type": "code",
      "metadata": {
        "id": "1Lh3QMIpa_Zw"
      },
      "source": [
        "# Média das notas de cada filme\n",
        "\n",
        "notas_medias = notas.groupby('filmeId')['nota'].mean()\n",
        "\n",
        "filmes['notas_medias'] = notas_medias"
      ],
      "execution_count": 8,
      "outputs": []
    },
    {
      "cell_type": "code",
      "metadata": {
        "colab": {
          "base_uri": "https://localhost:8080/",
          "height": 0
        },
        "id": "hOytBlBEba2e",
        "outputId": "8fdf9f14-e3c1-49fb-a0f4-f713a6b6a43a"
      },
      "source": [
        "filmes.sort_values('total_de_votos', ascending = False).head(10)"
      ],
      "execution_count": 9,
      "outputs": [
        {
          "output_type": "execute_result",
          "data": {
            "text/html": [
              "<div>\n",
              "<style scoped>\n",
              "    .dataframe tbody tr th:only-of-type {\n",
              "        vertical-align: middle;\n",
              "    }\n",
              "\n",
              "    .dataframe tbody tr th {\n",
              "        vertical-align: top;\n",
              "    }\n",
              "\n",
              "    .dataframe thead th {\n",
              "        text-align: right;\n",
              "    }\n",
              "</style>\n",
              "<table border=\"1\" class=\"dataframe\">\n",
              "  <thead>\n",
              "    <tr style=\"text-align: right;\">\n",
              "      <th></th>\n",
              "      <th>titulo</th>\n",
              "      <th>genero</th>\n",
              "      <th>total_de_votos</th>\n",
              "      <th>notas_medias</th>\n",
              "    </tr>\n",
              "    <tr>\n",
              "      <th>filmeId</th>\n",
              "      <th></th>\n",
              "      <th></th>\n",
              "      <th></th>\n",
              "      <th></th>\n",
              "    </tr>\n",
              "  </thead>\n",
              "  <tbody>\n",
              "    <tr>\n",
              "      <th>356</th>\n",
              "      <td>Forrest Gump (1994)</td>\n",
              "      <td>Comedy|Drama|Romance|War</td>\n",
              "      <td>329.0</td>\n",
              "      <td>4.164134</td>\n",
              "    </tr>\n",
              "    <tr>\n",
              "      <th>318</th>\n",
              "      <td>Shawshank Redemption, The (1994)</td>\n",
              "      <td>Crime|Drama</td>\n",
              "      <td>317.0</td>\n",
              "      <td>4.429022</td>\n",
              "    </tr>\n",
              "    <tr>\n",
              "      <th>296</th>\n",
              "      <td>Pulp Fiction (1994)</td>\n",
              "      <td>Comedy|Crime|Drama|Thriller</td>\n",
              "      <td>307.0</td>\n",
              "      <td>4.197068</td>\n",
              "    </tr>\n",
              "    <tr>\n",
              "      <th>593</th>\n",
              "      <td>Silence of the Lambs, The (1991)</td>\n",
              "      <td>Crime|Horror|Thriller</td>\n",
              "      <td>279.0</td>\n",
              "      <td>4.161290</td>\n",
              "    </tr>\n",
              "    <tr>\n",
              "      <th>2571</th>\n",
              "      <td>Matrix, The (1999)</td>\n",
              "      <td>Action|Sci-Fi|Thriller</td>\n",
              "      <td>278.0</td>\n",
              "      <td>4.192446</td>\n",
              "    </tr>\n",
              "    <tr>\n",
              "      <th>260</th>\n",
              "      <td>Star Wars: Episode IV - A New Hope (1977)</td>\n",
              "      <td>Action|Adventure|Sci-Fi</td>\n",
              "      <td>251.0</td>\n",
              "      <td>4.231076</td>\n",
              "    </tr>\n",
              "    <tr>\n",
              "      <th>480</th>\n",
              "      <td>Jurassic Park (1993)</td>\n",
              "      <td>Action|Adventure|Sci-Fi|Thriller</td>\n",
              "      <td>238.0</td>\n",
              "      <td>3.750000</td>\n",
              "    </tr>\n",
              "    <tr>\n",
              "      <th>110</th>\n",
              "      <td>Braveheart (1995)</td>\n",
              "      <td>Action|Drama|War</td>\n",
              "      <td>237.0</td>\n",
              "      <td>4.031646</td>\n",
              "    </tr>\n",
              "    <tr>\n",
              "      <th>589</th>\n",
              "      <td>Terminator 2: Judgment Day (1991)</td>\n",
              "      <td>Action|Sci-Fi</td>\n",
              "      <td>224.0</td>\n",
              "      <td>3.970982</td>\n",
              "    </tr>\n",
              "    <tr>\n",
              "      <th>527</th>\n",
              "      <td>Schindler's List (1993)</td>\n",
              "      <td>Drama|War</td>\n",
              "      <td>220.0</td>\n",
              "      <td>4.225000</td>\n",
              "    </tr>\n",
              "  </tbody>\n",
              "</table>\n",
              "</div>"
            ],
            "text/plain": [
              "                                            titulo  ... notas_medias\n",
              "filmeId                                             ...             \n",
              "356                            Forrest Gump (1994)  ...     4.164134\n",
              "318               Shawshank Redemption, The (1994)  ...     4.429022\n",
              "296                            Pulp Fiction (1994)  ...     4.197068\n",
              "593               Silence of the Lambs, The (1991)  ...     4.161290\n",
              "2571                            Matrix, The (1999)  ...     4.192446\n",
              "260      Star Wars: Episode IV - A New Hope (1977)  ...     4.231076\n",
              "480                           Jurassic Park (1993)  ...     3.750000\n",
              "110                              Braveheart (1995)  ...     4.031646\n",
              "589              Terminator 2: Judgment Day (1991)  ...     3.970982\n",
              "527                        Schindler's List (1993)  ...     4.225000\n",
              "\n",
              "[10 rows x 4 columns]"
            ]
          },
          "metadata": {},
          "execution_count": 9
        }
      ]
    },
    {
      "cell_type": "markdown",
      "metadata": {
        "id": "9_MSuEarb-bx"
      },
      "source": [
        "Conclui-se do dataframe acima que, mesmo que um filme tenha sido visto muitas vezes, isso não implica que muitas pessoas gostaram. Por exemplo, Jurassic Park foi visto mais vezes do que Schindler's List, porém as pessoas gostaram mais desse último."
      ]
    },
    {
      "cell_type": "markdown",
      "metadata": {
        "id": "rT992IL8cVoa"
      },
      "source": [
        "## Segunda tentativa de recomendação - Por notas"
      ]
    },
    {
      "cell_type": "code",
      "metadata": {
        "colab": {
          "base_uri": "https://localhost:8080/",
          "height": 0
        },
        "id": "TPsY98uPbpjd",
        "outputId": "05e600c0-0b12-4962-a78f-9993c7449924"
      },
      "source": [
        "filmes.sort_values('notas_medias', ascending = False).head(10)\n",
        "\n",
        "# Existem filmes com apenas 1 voto e isso não é interessante para a análise"
      ],
      "execution_count": 10,
      "outputs": [
        {
          "output_type": "execute_result",
          "data": {
            "text/html": [
              "<div>\n",
              "<style scoped>\n",
              "    .dataframe tbody tr th:only-of-type {\n",
              "        vertical-align: middle;\n",
              "    }\n",
              "\n",
              "    .dataframe tbody tr th {\n",
              "        vertical-align: top;\n",
              "    }\n",
              "\n",
              "    .dataframe thead th {\n",
              "        text-align: right;\n",
              "    }\n",
              "</style>\n",
              "<table border=\"1\" class=\"dataframe\">\n",
              "  <thead>\n",
              "    <tr style=\"text-align: right;\">\n",
              "      <th></th>\n",
              "      <th>titulo</th>\n",
              "      <th>genero</th>\n",
              "      <th>total_de_votos</th>\n",
              "      <th>notas_medias</th>\n",
              "    </tr>\n",
              "    <tr>\n",
              "      <th>filmeId</th>\n",
              "      <th></th>\n",
              "      <th></th>\n",
              "      <th></th>\n",
              "      <th></th>\n",
              "    </tr>\n",
              "  </thead>\n",
              "  <tbody>\n",
              "    <tr>\n",
              "      <th>88448</th>\n",
              "      <td>Paper Birds (Pájaros de papel) (2010)</td>\n",
              "      <td>Comedy|Drama</td>\n",
              "      <td>1.0</td>\n",
              "      <td>5.0</td>\n",
              "    </tr>\n",
              "    <tr>\n",
              "      <th>100556</th>\n",
              "      <td>Act of Killing, The (2012)</td>\n",
              "      <td>Documentary</td>\n",
              "      <td>1.0</td>\n",
              "      <td>5.0</td>\n",
              "    </tr>\n",
              "    <tr>\n",
              "      <th>143031</th>\n",
              "      <td>Jump In! (2007)</td>\n",
              "      <td>Comedy|Drama|Romance</td>\n",
              "      <td>1.0</td>\n",
              "      <td>5.0</td>\n",
              "    </tr>\n",
              "    <tr>\n",
              "      <th>143511</th>\n",
              "      <td>Human (2015)</td>\n",
              "      <td>Documentary</td>\n",
              "      <td>1.0</td>\n",
              "      <td>5.0</td>\n",
              "    </tr>\n",
              "    <tr>\n",
              "      <th>143559</th>\n",
              "      <td>L.A. Slasher (2015)</td>\n",
              "      <td>Comedy|Crime|Fantasy</td>\n",
              "      <td>1.0</td>\n",
              "      <td>5.0</td>\n",
              "    </tr>\n",
              "    <tr>\n",
              "      <th>6201</th>\n",
              "      <td>Lady Jane (1986)</td>\n",
              "      <td>Drama|Romance</td>\n",
              "      <td>1.0</td>\n",
              "      <td>5.0</td>\n",
              "    </tr>\n",
              "    <tr>\n",
              "      <th>102217</th>\n",
              "      <td>Bill Hicks: Revelations (1993)</td>\n",
              "      <td>Comedy</td>\n",
              "      <td>1.0</td>\n",
              "      <td>5.0</td>\n",
              "    </tr>\n",
              "    <tr>\n",
              "      <th>102084</th>\n",
              "      <td>Justice League: Doom (2012)</td>\n",
              "      <td>Action|Animation|Fantasy</td>\n",
              "      <td>1.0</td>\n",
              "      <td>5.0</td>\n",
              "    </tr>\n",
              "    <tr>\n",
              "      <th>6192</th>\n",
              "      <td>Open Hearts (Elsker dig for evigt) (2002)</td>\n",
              "      <td>Romance</td>\n",
              "      <td>1.0</td>\n",
              "      <td>5.0</td>\n",
              "    </tr>\n",
              "    <tr>\n",
              "      <th>145994</th>\n",
              "      <td>Formula of Love (1984)</td>\n",
              "      <td>Comedy</td>\n",
              "      <td>1.0</td>\n",
              "      <td>5.0</td>\n",
              "    </tr>\n",
              "  </tbody>\n",
              "</table>\n",
              "</div>"
            ],
            "text/plain": [
              "                                            titulo  ... notas_medias\n",
              "filmeId                                             ...             \n",
              "88448        Paper Birds (Pájaros de papel) (2010)  ...          5.0\n",
              "100556                  Act of Killing, The (2012)  ...          5.0\n",
              "143031                             Jump In! (2007)  ...          5.0\n",
              "143511                                Human (2015)  ...          5.0\n",
              "143559                         L.A. Slasher (2015)  ...          5.0\n",
              "6201                              Lady Jane (1986)  ...          5.0\n",
              "102217              Bill Hicks: Revelations (1993)  ...          5.0\n",
              "102084                Justice League: Doom (2012)   ...          5.0\n",
              "6192     Open Hearts (Elsker dig for evigt) (2002)  ...          5.0\n",
              "145994                      Formula of Love (1984)  ...          5.0\n",
              "\n",
              "[10 rows x 4 columns]"
            ]
          },
          "metadata": {},
          "execution_count": 10
        }
      ]
    },
    {
      "cell_type": "code",
      "metadata": {
        "colab": {
          "base_uri": "https://localhost:8080/",
          "height": 0
        },
        "id": "gSymKPzjcfZW",
        "outputId": "a1026bd7-a319-4605-8dee-c0c665a8b4fb"
      },
      "source": [
        "filmes_com_mais_de_25_votos = filmes.query('total_de_votos >= 25').sort_values('notas_medias', ascending = False)\n",
        "\n",
        "filmes_com_mais_de_25_votos.head(10)"
      ],
      "execution_count": 11,
      "outputs": [
        {
          "output_type": "execute_result",
          "data": {
            "text/html": [
              "<div>\n",
              "<style scoped>\n",
              "    .dataframe tbody tr th:only-of-type {\n",
              "        vertical-align: middle;\n",
              "    }\n",
              "\n",
              "    .dataframe tbody tr th {\n",
              "        vertical-align: top;\n",
              "    }\n",
              "\n",
              "    .dataframe thead th {\n",
              "        text-align: right;\n",
              "    }\n",
              "</style>\n",
              "<table border=\"1\" class=\"dataframe\">\n",
              "  <thead>\n",
              "    <tr style=\"text-align: right;\">\n",
              "      <th></th>\n",
              "      <th>titulo</th>\n",
              "      <th>genero</th>\n",
              "      <th>total_de_votos</th>\n",
              "      <th>notas_medias</th>\n",
              "    </tr>\n",
              "    <tr>\n",
              "      <th>filmeId</th>\n",
              "      <th></th>\n",
              "      <th></th>\n",
              "      <th></th>\n",
              "      <th></th>\n",
              "    </tr>\n",
              "  </thead>\n",
              "  <tbody>\n",
              "    <tr>\n",
              "      <th>318</th>\n",
              "      <td>Shawshank Redemption, The (1994)</td>\n",
              "      <td>Crime|Drama</td>\n",
              "      <td>317.0</td>\n",
              "      <td>4.429022</td>\n",
              "    </tr>\n",
              "    <tr>\n",
              "      <th>922</th>\n",
              "      <td>Sunset Blvd. (a.k.a. Sunset Boulevard) (1950)</td>\n",
              "      <td>Drama|Film-Noir|Romance</td>\n",
              "      <td>27.0</td>\n",
              "      <td>4.333333</td>\n",
              "    </tr>\n",
              "    <tr>\n",
              "      <th>898</th>\n",
              "      <td>Philadelphia Story, The (1940)</td>\n",
              "      <td>Comedy|Drama|Romance</td>\n",
              "      <td>29.0</td>\n",
              "      <td>4.310345</td>\n",
              "    </tr>\n",
              "    <tr>\n",
              "      <th>475</th>\n",
              "      <td>In the Name of the Father (1993)</td>\n",
              "      <td>Drama</td>\n",
              "      <td>25.0</td>\n",
              "      <td>4.300000</td>\n",
              "    </tr>\n",
              "    <tr>\n",
              "      <th>1204</th>\n",
              "      <td>Lawrence of Arabia (1962)</td>\n",
              "      <td>Adventure|Drama|War</td>\n",
              "      <td>45.0</td>\n",
              "      <td>4.300000</td>\n",
              "    </tr>\n",
              "    <tr>\n",
              "      <th>246</th>\n",
              "      <td>Hoop Dreams (1994)</td>\n",
              "      <td>Documentary</td>\n",
              "      <td>29.0</td>\n",
              "      <td>4.293103</td>\n",
              "    </tr>\n",
              "    <tr>\n",
              "      <th>858</th>\n",
              "      <td>Godfather, The (1972)</td>\n",
              "      <td>Crime|Drama</td>\n",
              "      <td>192.0</td>\n",
              "      <td>4.289062</td>\n",
              "    </tr>\n",
              "    <tr>\n",
              "      <th>1235</th>\n",
              "      <td>Harold and Maude (1971)</td>\n",
              "      <td>Comedy|Drama|Romance</td>\n",
              "      <td>26.0</td>\n",
              "      <td>4.288462</td>\n",
              "    </tr>\n",
              "    <tr>\n",
              "      <th>168252</th>\n",
              "      <td>Logan (2017)</td>\n",
              "      <td>Action|Sci-Fi</td>\n",
              "      <td>25.0</td>\n",
              "      <td>4.280000</td>\n",
              "    </tr>\n",
              "    <tr>\n",
              "      <th>2959</th>\n",
              "      <td>Fight Club (1999)</td>\n",
              "      <td>Action|Crime|Drama|Thriller</td>\n",
              "      <td>218.0</td>\n",
              "      <td>4.272936</td>\n",
              "    </tr>\n",
              "  </tbody>\n",
              "</table>\n",
              "</div>"
            ],
            "text/plain": [
              "                                                titulo  ... notas_medias\n",
              "filmeId                                                 ...             \n",
              "318                   Shawshank Redemption, The (1994)  ...     4.429022\n",
              "922      Sunset Blvd. (a.k.a. Sunset Boulevard) (1950)  ...     4.333333\n",
              "898                     Philadelphia Story, The (1940)  ...     4.310345\n",
              "475                   In the Name of the Father (1993)  ...     4.300000\n",
              "1204                         Lawrence of Arabia (1962)  ...     4.300000\n",
              "246                                 Hoop Dreams (1994)  ...     4.293103\n",
              "858                              Godfather, The (1972)  ...     4.289062\n",
              "1235                           Harold and Maude (1971)  ...     4.288462\n",
              "168252                                    Logan (2017)  ...     4.280000\n",
              "2959                                 Fight Club (1999)  ...     4.272936\n",
              "\n",
              "[10 rows x 4 columns]"
            ]
          },
          "metadata": {},
          "execution_count": 11
        }
      ]
    },
    {
      "cell_type": "markdown",
      "metadata": {
        "id": "gx4PVWsGeq3w"
      },
      "source": [
        "## Tentativa com base nos filmes já assistidos"
      ]
    },
    {
      "cell_type": "code",
      "metadata": {
        "colab": {
          "base_uri": "https://localhost:8080/",
          "height": 0
        },
        "id": "r8D6MyNxdGIT",
        "outputId": "08092fdb-dbc1-4fed-e2c2-e358165b299a"
      },
      "source": [
        "eu_assisti = [1, 21, 19, 10, 11, 7, 2]\n",
        "\n",
        "filmes.loc[eu_assisti]"
      ],
      "execution_count": 12,
      "outputs": [
        {
          "output_type": "execute_result",
          "data": {
            "text/html": [
              "<div>\n",
              "<style scoped>\n",
              "    .dataframe tbody tr th:only-of-type {\n",
              "        vertical-align: middle;\n",
              "    }\n",
              "\n",
              "    .dataframe tbody tr th {\n",
              "        vertical-align: top;\n",
              "    }\n",
              "\n",
              "    .dataframe thead th {\n",
              "        text-align: right;\n",
              "    }\n",
              "</style>\n",
              "<table border=\"1\" class=\"dataframe\">\n",
              "  <thead>\n",
              "    <tr style=\"text-align: right;\">\n",
              "      <th></th>\n",
              "      <th>titulo</th>\n",
              "      <th>genero</th>\n",
              "      <th>total_de_votos</th>\n",
              "      <th>notas_medias</th>\n",
              "    </tr>\n",
              "    <tr>\n",
              "      <th>filmeId</th>\n",
              "      <th></th>\n",
              "      <th></th>\n",
              "      <th></th>\n",
              "      <th></th>\n",
              "    </tr>\n",
              "  </thead>\n",
              "  <tbody>\n",
              "    <tr>\n",
              "      <th>1</th>\n",
              "      <td>Toy Story (1995)</td>\n",
              "      <td>Adventure|Animation|Children|Comedy|Fantasy</td>\n",
              "      <td>215.0</td>\n",
              "      <td>3.920930</td>\n",
              "    </tr>\n",
              "    <tr>\n",
              "      <th>21</th>\n",
              "      <td>Get Shorty (1995)</td>\n",
              "      <td>Comedy|Crime|Thriller</td>\n",
              "      <td>89.0</td>\n",
              "      <td>3.494382</td>\n",
              "    </tr>\n",
              "    <tr>\n",
              "      <th>19</th>\n",
              "      <td>Ace Ventura: When Nature Calls (1995)</td>\n",
              "      <td>Comedy</td>\n",
              "      <td>88.0</td>\n",
              "      <td>2.727273</td>\n",
              "    </tr>\n",
              "    <tr>\n",
              "      <th>10</th>\n",
              "      <td>GoldenEye (1995)</td>\n",
              "      <td>Action|Adventure|Thriller</td>\n",
              "      <td>132.0</td>\n",
              "      <td>3.496212</td>\n",
              "    </tr>\n",
              "    <tr>\n",
              "      <th>11</th>\n",
              "      <td>American President, The (1995)</td>\n",
              "      <td>Comedy|Drama|Romance</td>\n",
              "      <td>70.0</td>\n",
              "      <td>3.671429</td>\n",
              "    </tr>\n",
              "    <tr>\n",
              "      <th>7</th>\n",
              "      <td>Sabrina (1995)</td>\n",
              "      <td>Comedy|Romance</td>\n",
              "      <td>54.0</td>\n",
              "      <td>3.185185</td>\n",
              "    </tr>\n",
              "    <tr>\n",
              "      <th>2</th>\n",
              "      <td>Jumanji (1995)</td>\n",
              "      <td>Adventure|Children|Fantasy</td>\n",
              "      <td>110.0</td>\n",
              "      <td>3.431818</td>\n",
              "    </tr>\n",
              "  </tbody>\n",
              "</table>\n",
              "</div>"
            ],
            "text/plain": [
              "                                        titulo  ... notas_medias\n",
              "filmeId                                         ...             \n",
              "1                             Toy Story (1995)  ...     3.920930\n",
              "21                           Get Shorty (1995)  ...     3.494382\n",
              "19       Ace Ventura: When Nature Calls (1995)  ...     2.727273\n",
              "10                            GoldenEye (1995)  ...     3.496212\n",
              "11              American President, The (1995)  ...     3.671429\n",
              "7                               Sabrina (1995)  ...     3.185185\n",
              "2                               Jumanji (1995)  ...     3.431818\n",
              "\n",
              "[7 rows x 4 columns]"
            ]
          },
          "metadata": {},
          "execution_count": 12
        }
      ]
    },
    {
      "cell_type": "markdown",
      "metadata": {
        "id": "32jkDC7NfRT4"
      },
      "source": [
        "O Jumanji é do gênero Adventure/Children/Fantasy, então vamos buscar filmes de gênero semelhante"
      ]
    },
    {
      "cell_type": "code",
      "metadata": {
        "colab": {
          "base_uri": "https://localhost:8080/",
          "height": 0
        },
        "id": "FQv-BypLe27Q",
        "outputId": "e4167057-8f8e-4fe3-8da7-743ce049bea5"
      },
      "source": [
        "aventura_infantil_fantasia = filmes_com_mais_de_25_votos.drop(eu_assisti, errors = 'ignore').query('genero == \"Adventure|Children|Fantasy\"').sort_values('notas_medias', ascending = False)\n",
        "\n",
        "aventura_infantil_fantasia # Filmes recomendados a quem assistiu Jumanji"
      ],
      "execution_count": 13,
      "outputs": [
        {
          "output_type": "execute_result",
          "data": {
            "text/html": [
              "<div>\n",
              "<style scoped>\n",
              "    .dataframe tbody tr th:only-of-type {\n",
              "        vertical-align: middle;\n",
              "    }\n",
              "\n",
              "    .dataframe tbody tr th {\n",
              "        vertical-align: top;\n",
              "    }\n",
              "\n",
              "    .dataframe thead th {\n",
              "        text-align: right;\n",
              "    }\n",
              "</style>\n",
              "<table border=\"1\" class=\"dataframe\">\n",
              "  <thead>\n",
              "    <tr style=\"text-align: right;\">\n",
              "      <th></th>\n",
              "      <th>titulo</th>\n",
              "      <th>genero</th>\n",
              "      <th>total_de_votos</th>\n",
              "      <th>notas_medias</th>\n",
              "    </tr>\n",
              "    <tr>\n",
              "      <th>filmeId</th>\n",
              "      <th></th>\n",
              "      <th></th>\n",
              "      <th></th>\n",
              "      <th></th>\n",
              "    </tr>\n",
              "  </thead>\n",
              "  <tbody>\n",
              "    <tr>\n",
              "      <th>4896</th>\n",
              "      <td>Harry Potter and the Sorcerer's Stone (a.k.a. ...</td>\n",
              "      <td>Adventure|Children|Fantasy</td>\n",
              "      <td>107.0</td>\n",
              "      <td>3.761682</td>\n",
              "    </tr>\n",
              "    <tr>\n",
              "      <th>2161</th>\n",
              "      <td>NeverEnding Story, The (1984)</td>\n",
              "      <td>Adventure|Children|Fantasy</td>\n",
              "      <td>43.0</td>\n",
              "      <td>3.581395</td>\n",
              "    </tr>\n",
              "    <tr>\n",
              "      <th>41566</th>\n",
              "      <td>Chronicles of Narnia: The Lion, the Witch and ...</td>\n",
              "      <td>Adventure|Children|Fantasy</td>\n",
              "      <td>62.0</td>\n",
              "      <td>3.443548</td>\n",
              "    </tr>\n",
              "    <tr>\n",
              "      <th>60</th>\n",
              "      <td>Indian in the Cupboard, The (1995)</td>\n",
              "      <td>Adventure|Children|Fantasy</td>\n",
              "      <td>34.0</td>\n",
              "      <td>3.235294</td>\n",
              "    </tr>\n",
              "  </tbody>\n",
              "</table>\n",
              "</div>"
            ],
            "text/plain": [
              "                                                    titulo  ... notas_medias\n",
              "filmeId                                                     ...             \n",
              "4896     Harry Potter and the Sorcerer's Stone (a.k.a. ...  ...     3.761682\n",
              "2161                         NeverEnding Story, The (1984)  ...     3.581395\n",
              "41566    Chronicles of Narnia: The Lion, the Witch and ...  ...     3.443548\n",
              "60                      Indian in the Cupboard, The (1995)  ...     3.235294\n",
              "\n",
              "[4 rows x 4 columns]"
            ]
          },
          "metadata": {},
          "execution_count": 13
        }
      ]
    },
    {
      "cell_type": "markdown",
      "metadata": {
        "id": "nAaGcO0njDwp"
      },
      "source": [
        "## Abordagem de encontrar usuários 'similares'"
      ]
    },
    {
      "cell_type": "markdown",
      "metadata": {
        "id": "y4lryXaMjJnv"
      },
      "source": [
        "- João deu nota 4 em Toy Story\n",
        "- Maria deu nota 5 em Toy Story\n",
        "- Paulo deu nota 3 em Toy Story\n",
        "- Joana deu nota 3.5 em Toy Story\n",
        "\n",
        "A similaridade entre os usuários pode ser medida através da distância entre as notas dadas.\n",
        "\n",
        "x - y = distância"
      ]
    },
    {
      "cell_type": "code",
      "metadata": {
        "id": "amIpF7y-kEie"
      },
      "source": [
        "import matplotlib.pyplot as plt\n",
        "import numpy as np"
      ],
      "execution_count": 14,
      "outputs": []
    },
    {
      "cell_type": "code",
      "metadata": {
        "colab": {
          "base_uri": "https://localhost:8080/",
          "height": 0
        },
        "id": "BXhFyCLffYBK",
        "outputId": "7b5112f9-ebe7-43be-a083-1a33b6feb054"
      },
      "source": [
        "# Levando em consideração 2 filmes\n",
        "\n",
        "joao = np.array([4, 4.5])\n",
        "\n",
        "maria = np.array([5, 5])\n",
        "\n",
        "plt.plot(4, 4.5, 'go')\n",
        "plt.plot(5, 5, 'yo')\n",
        "plt.legend(['João', 'Maria'])\n",
        "\n",
        "# A distância entre os pontos é o tamanho da hipotenusa do triângulo retângulo\n",
        "\n",
        "plt.plot([4, 5], [4.5, 4.5], color = 'b', linestyle=\"-\")\n",
        "plt.plot([4, 5], [4.5, 5], color = 'b', linestyle=\"-\")\n",
        "plt.plot([5, 5], [5, 4.5], color = 'b', linestyle=\"-\")"
      ],
      "execution_count": 15,
      "outputs": [
        {
          "output_type": "execute_result",
          "data": {
            "text/plain": [
              "[<matplotlib.lines.Line2D at 0x7f109c188ed0>]"
            ]
          },
          "metadata": {},
          "execution_count": 15
        },
        {
          "output_type": "display_data",
          "data": {
            "image/png": "[encoded data removed]",
            "text/plain": [
              "<Figure size 432x288 with 1 Axes>"
            ]
          },
          "metadata": {
            "needs_background": "light"
          }
        }
      ]
    },
    {
      "cell_type": "code",
      "metadata": {
        "colab": {
          "base_uri": "https://localhost:8080/",
          "height": 0
        },
        "id": "8IwOFWmEmZQA",
        "outputId": "878624af-0253-4366-f787-55b516ad1d1d"
      },
      "source": [
        "# Acrescentando mais 1 usuário\n",
        "\n",
        "joaquina = np.array([3.5, 4.5])\n",
        "\n",
        "plt.plot(4, 4.5, 'go')\n",
        "plt.plot(5, 5, 'yo')\n",
        "plt.plot(3.5, 4.5, 'bo')\n",
        "plt.legend(['João', 'Maria', 'Joaquina'])"
      ],
      "execution_count": 16,
      "outputs": [
        {
          "output_type": "execute_result",
          "data": {
            "text/plain": [
              "<matplotlib.legend.Legend at 0x7f109c217550>"
            ]
          },
          "metadata": {},
          "execution_count": 16
        },
        {
          "output_type": "display_data",
          "data": {
            "image/png": "[encoded data removed]",
            "text/plain": [
              "<Figure size 432x288 with 1 Axes>"
            ]
          },
          "metadata": {
            "needs_background": "light"
          }
        }
      ]
    },
    {
      "cell_type": "code",
      "metadata": {
        "id": "yfDWhW7FkNxA"
      },
      "source": [
        "def distancia_de_vetores(a,b):\n",
        "  return np.linalg.norm(a-b)"
      ],
      "execution_count": 17,
      "outputs": []
    },
    {
      "cell_type": "code",
      "metadata": {
        "colab": {
          "base_uri": "https://localhost:8080/"
        },
        "id": "GjFMVv65l4u_",
        "outputId": "bf9fbc0b-0841-4227-de0e-b423a8ab3435"
      },
      "source": [
        "print(distancia_de_vetores(joao, maria))\n",
        "print(distancia_de_vetores(joao, joaquina))"
      ],
      "execution_count": 18,
      "outputs": [
        {
          "output_type": "stream",
          "name": "stdout",
          "text": [
            "1.118033988749895\n",
            "0.5\n"
          ]
        }
      ]
    },
    {
      "cell_type": "markdown",
      "metadata": {
        "id": "qhjLKSjXm9II"
      },
      "source": [
        "Teoricamente, Joaquina é mais parecida com João do que Maria é. Portanto, na hora de recomendar filmes para João, é preferível recomendar aqueles que Joaquina também curtiu."
      ]
    },
    {
      "cell_type": "code",
      "metadata": {
        "id": "dSMs8wFCl6Iy"
      },
      "source": [
        "def notas_do_usuario(usuarioId):\n",
        "  notas_do_usuario = notas.query(f'usuarioId == {usuarioId}')\n",
        "  notas_do_usuario = notas_do_usuario[['filmeId', 'nota']].set_index('filmeId')\n",
        "  return notas_do_usuario"
      ],
      "execution_count": 19,
      "outputs": []
    },
    {
      "cell_type": "code",
      "metadata": {
        "id": "57hOA2W1pwSt"
      },
      "source": [
        "usuario_1 = notas_do_usuario(1)\n",
        "usuario_4 = notas_do_usuario(4)"
      ],
      "execution_count": 20,
      "outputs": []
    },
    {
      "cell_type": "code",
      "metadata": {
        "colab": {
          "base_uri": "https://localhost:8080/",
          "height": 0
        },
        "id": "7PV-ckenqs3x",
        "outputId": "dd3ff42d-069e-43f9-9ed3-0e2292921101"
      },
      "source": [
        "diferencas = usuario_1.join(usuario_4, lsuffix = '_usuario_1', rsuffix = '_usuario_4').dropna()\n",
        "diferencas.head()"
      ],
      "execution_count": 21,
      "outputs": [
        {
          "output_type": "execute_result",
          "data": {
            "text/html": [
              "<div>\n",
              "<style scoped>\n",
              "    .dataframe tbody tr th:only-of-type {\n",
              "        vertical-align: middle;\n",
              "    }\n",
              "\n",
              "    .dataframe tbody tr th {\n",
              "        vertical-align: top;\n",
              "    }\n",
              "\n",
              "    .dataframe thead th {\n",
              "        text-align: right;\n",
              "    }\n",
              "</style>\n",
              "<table border=\"1\" class=\"dataframe\">\n",
              "  <thead>\n",
              "    <tr style=\"text-align: right;\">\n",
              "      <th></th>\n",
              "      <th>nota_usuario_1</th>\n",
              "      <th>nota_usuario_4</th>\n",
              "    </tr>\n",
              "    <tr>\n",
              "      <th>filmeId</th>\n",
              "      <th></th>\n",
              "      <th></th>\n",
              "    </tr>\n",
              "  </thead>\n",
              "  <tbody>\n",
              "    <tr>\n",
              "      <th>47</th>\n",
              "      <td>5.0</td>\n",
              "      <td>2.0</td>\n",
              "    </tr>\n",
              "    <tr>\n",
              "      <th>235</th>\n",
              "      <td>4.0</td>\n",
              "      <td>2.0</td>\n",
              "    </tr>\n",
              "    <tr>\n",
              "      <th>260</th>\n",
              "      <td>5.0</td>\n",
              "      <td>5.0</td>\n",
              "    </tr>\n",
              "    <tr>\n",
              "      <th>296</th>\n",
              "      <td>3.0</td>\n",
              "      <td>1.0</td>\n",
              "    </tr>\n",
              "    <tr>\n",
              "      <th>441</th>\n",
              "      <td>4.0</td>\n",
              "      <td>1.0</td>\n",
              "    </tr>\n",
              "  </tbody>\n",
              "</table>\n",
              "</div>"
            ],
            "text/plain": [
              "         nota_usuario_1  nota_usuario_4\n",
              "filmeId                                \n",
              "47                  5.0             2.0\n",
              "235                 4.0             2.0\n",
              "260                 5.0             5.0\n",
              "296                 3.0             1.0\n",
              "441                 4.0             1.0"
            ]
          },
          "metadata": {},
          "execution_count": 21
        }
      ]
    },
    {
      "cell_type": "code",
      "metadata": {
        "colab": {
          "base_uri": "https://localhost:8080/"
        },
        "id": "C8NAYDeHqvLu",
        "outputId": "1ecc5016-64eb-4f9c-bc9a-4a55ef379dae"
      },
      "source": [
        "distancia_de_vetores(diferencas['nota_usuario_1'], diferencas['nota_usuario_4'])"
      ],
      "execution_count": 22,
      "outputs": [
        {
          "output_type": "execute_result",
          "data": {
            "text/plain": [
              "11.135528725660043"
            ]
          },
          "metadata": {},
          "execution_count": 22
        }
      ]
    },
    {
      "cell_type": "code",
      "metadata": {
        "id": "aHfvTJl4sQ--"
      },
      "source": [
        "def distancia_de_usuarios(usuarioId1, usuarioId2):\n",
        "  notas1 = notas_do_usuario(usuarioId1)\n",
        "  notas2 = notas_do_usuario(usuarioId2)\n",
        "\n",
        "  diferencas = notas1.join(notas2, lsuffix = '_1', rsuffix = '_2').dropna()\n",
        "\n",
        "  distancia = distancia_de_vetores(diferencas['nota_1'], diferencas['nota_2'])\n",
        "\n",
        "  return [usuarioId1, usuarioId2, distancia]"
      ],
      "execution_count": 23,
      "outputs": []
    },
    {
      "cell_type": "code",
      "metadata": {
        "colab": {
          "base_uri": "https://localhost:8080/"
        },
        "id": "K20nj7GKtrop",
        "outputId": "1376e393-babb-4b90-b21a-e71d3b87629b"
      },
      "source": [
        "distancia_de_usuarios(1, 4)"
      ],
      "execution_count": 24,
      "outputs": [
        {
          "output_type": "execute_result",
          "data": {
            "text/plain": [
              "[1, 4, 11.135528725660043]"
            ]
          },
          "metadata": {},
          "execution_count": 24
        }
      ]
    },
    {
      "cell_type": "code",
      "metadata": {
        "colab": {
          "base_uri": "https://localhost:8080/"
        },
        "id": "G8SGPh-Gtxhh",
        "outputId": "94baf394-a2a5-47e1-c7ca-e6383dc2ef7e"
      },
      "source": [
        "len(notas['usuarioId'].unique()) # Quantidade de usuários"
      ],
      "execution_count": 25,
      "outputs": [
        {
          "output_type": "execute_result",
          "data": {
            "text/plain": [
              "610"
            ]
          },
          "metadata": {},
          "execution_count": 25
        }
      ]
    },
    {
      "cell_type": "code",
      "metadata": {
        "id": "2fLrQjdOwORw"
      },
      "source": [
        "def distancia_de_todos(voce_id):\n",
        "  distancias = []\n",
        "  for usuarioId in notas['usuarioId'].unique():\n",
        "    informacoes = distancia_de_usuarios(voce_id, usuarioId)\n",
        "    distancias.append(informacoes)\n",
        "  distancias = pd.DataFrame(distancias, columns = ['voce', 'outra_pessoa', 'distancia'])\n",
        "  return distancias"
      ],
      "execution_count": 26,
      "outputs": []
    },
    {
      "cell_type": "code",
      "metadata": {
        "colab": {
          "base_uri": "https://localhost:8080/",
          "height": 0
        },
        "id": "JBkNI1uzxWCQ",
        "outputId": "e6242e44-ccb7-4787-d2cf-08ea65cadbd7"
      },
      "source": [
        "distancia_de_todos(1).sort_values('distancia')"
      ],
      "execution_count": 27,
      "outputs": [
        {
          "output_type": "execute_result",
          "data": {
            "text/html": [
              "<div>\n",
              "<style scoped>\n",
              "    .dataframe tbody tr th:only-of-type {\n",
              "        vertical-align: middle;\n",
              "    }\n",
              "\n",
              "    .dataframe tbody tr th {\n",
              "        vertical-align: top;\n",
              "    }\n",
              "\n",
              "    .dataframe thead th {\n",
              "        text-align: right;\n",
              "    }\n",
              "</style>\n",
              "<table border=\"1\" class=\"dataframe\">\n",
              "  <thead>\n",
              "    <tr style=\"text-align: right;\">\n",
              "      <th></th>\n",
              "      <th>voce</th>\n",
              "      <th>outra_pessoa</th>\n",
              "      <th>distancia</th>\n",
              "    </tr>\n",
              "  </thead>\n",
              "  <tbody>\n",
              "    <tr>\n",
              "      <th>0</th>\n",
              "      <td>1</td>\n",
              "      <td>1</td>\n",
              "      <td>0.000000</td>\n",
              "    </tr>\n",
              "    <tr>\n",
              "      <th>577</th>\n",
              "      <td>1</td>\n",
              "      <td>578</td>\n",
              "      <td>0.000000</td>\n",
              "    </tr>\n",
              "    <tr>\n",
              "      <th>76</th>\n",
              "      <td>1</td>\n",
              "      <td>77</td>\n",
              "      <td>0.000000</td>\n",
              "    </tr>\n",
              "    <tr>\n",
              "      <th>84</th>\n",
              "      <td>1</td>\n",
              "      <td>85</td>\n",
              "      <td>0.000000</td>\n",
              "    </tr>\n",
              "    <tr>\n",
              "      <th>174</th>\n",
              "      <td>1</td>\n",
              "      <td>175</td>\n",
              "      <td>0.000000</td>\n",
              "    </tr>\n",
              "    <tr>\n",
              "      <th>...</th>\n",
              "      <td>...</td>\n",
              "      <td>...</td>\n",
              "      <td>...</td>\n",
              "    </tr>\n",
              "    <tr>\n",
              "      <th>473</th>\n",
              "      <td>1</td>\n",
              "      <td>474</td>\n",
              "      <td>18.594354</td>\n",
              "    </tr>\n",
              "    <tr>\n",
              "      <th>159</th>\n",
              "      <td>1</td>\n",
              "      <td>160</td>\n",
              "      <td>18.794946</td>\n",
              "    </tr>\n",
              "    <tr>\n",
              "      <th>216</th>\n",
              "      <td>1</td>\n",
              "      <td>217</td>\n",
              "      <td>19.646883</td>\n",
              "    </tr>\n",
              "    <tr>\n",
              "      <th>598</th>\n",
              "      <td>1</td>\n",
              "      <td>599</td>\n",
              "      <td>19.665960</td>\n",
              "    </tr>\n",
              "    <tr>\n",
              "      <th>67</th>\n",
              "      <td>1</td>\n",
              "      <td>68</td>\n",
              "      <td>21.558061</td>\n",
              "    </tr>\n",
              "  </tbody>\n",
              "</table>\n",
              "<p>610 rows × 3 columns</p>\n",
              "</div>"
            ],
            "text/plain": [
              "     voce  outra_pessoa  distancia\n",
              "0       1             1   0.000000\n",
              "577     1           578   0.000000\n",
              "76      1            77   0.000000\n",
              "84      1            85   0.000000\n",
              "174     1           175   0.000000\n",
              "..    ...           ...        ...\n",
              "473     1           474  18.594354\n",
              "159     1           160  18.794946\n",
              "216     1           217  19.646883\n",
              "598     1           599  19.665960\n",
              "67      1            68  21.558061\n",
              "\n",
              "[610 rows x 3 columns]"
            ]
          },
          "metadata": {},
          "execution_count": 27
        }
      ]
    },
    {
      "cell_type": "markdown",
      "metadata": {
        "id": "Vb0MwhF_z9w9"
      },
      "source": [
        "É um pouco suspeito que a distância entre o usuário 1 e outros usuários tenha resultado em zero. Para investigar o caso, vamos olhar os dados de cada um."
      ]
    },
    {
      "cell_type": "code",
      "metadata": {
        "colab": {
          "base_uri": "https://localhost:8080/",
          "height": 0
        },
        "id": "kX6422QWxkwi",
        "outputId": "2687fd71-6564-4d1e-ee46-a551841b25d3"
      },
      "source": [
        "notas_do_usuario(1).join(notas_do_usuario(578), lsuffix = '_1', rsuffix = '_578').dropna()"
      ],
      "execution_count": 28,
      "outputs": [
        {
          "output_type": "execute_result",
          "data": {
            "text/html": [
              "<div>\n",
              "<style scoped>\n",
              "    .dataframe tbody tr th:only-of-type {\n",
              "        vertical-align: middle;\n",
              "    }\n",
              "\n",
              "    .dataframe tbody tr th {\n",
              "        vertical-align: top;\n",
              "    }\n",
              "\n",
              "    .dataframe thead th {\n",
              "        text-align: right;\n",
              "    }\n",
              "</style>\n",
              "<table border=\"1\" class=\"dataframe\">\n",
              "  <thead>\n",
              "    <tr style=\"text-align: right;\">\n",
              "      <th></th>\n",
              "      <th>nota_1</th>\n",
              "      <th>nota_578</th>\n",
              "    </tr>\n",
              "    <tr>\n",
              "      <th>filmeId</th>\n",
              "      <th></th>\n",
              "      <th></th>\n",
              "    </tr>\n",
              "  </thead>\n",
              "  <tbody>\n",
              "  </tbody>\n",
              "</table>\n",
              "</div>"
            ],
            "text/plain": [
              "Empty DataFrame\n",
              "Columns: [nota_1, nota_578]\n",
              "Index: []"
            ]
          },
          "metadata": {},
          "execution_count": 28
        }
      ]
    },
    {
      "cell_type": "markdown",
      "metadata": {
        "id": "dxffFH0W1EfS"
      },
      "source": [
        "No caso acima, por exemplo, os dois usuários não assistiram a nenhum filme em comum. Não queremos esse tipo de ocorrência em nossa análise."
      ]
    },
    {
      "cell_type": "code",
      "metadata": {
        "id": "-9BZAe1EznkP"
      },
      "source": [
        "def distancia_de_usuarios(usuarioId1, usuarioId2, minimo = 5):\n",
        "  notas1 = notas_do_usuario(usuarioId1)\n",
        "  notas2 = notas_do_usuario(usuarioId2)\n",
        "\n",
        "  diferencas = notas1.join(notas2, lsuffix = '_1', rsuffix = '_2').dropna()\n",
        "\n",
        "  if (len(diferencas) < minimo):\n",
        "    return [usuarioId1, usuarioId2, 100000]\n",
        "\n",
        "  distancia = distancia_de_vetores(diferencas['nota_1'], diferencas['nota_2'])\n",
        "\n",
        "  return [usuarioId1, usuarioId2, distancia]"
      ],
      "execution_count": 29,
      "outputs": []
    },
    {
      "cell_type": "code",
      "metadata": {
        "id": "38MwXyqn11mt"
      },
      "source": [
        "def distancia_de_todos(voce_id):\n",
        "  distancias = []\n",
        "  for usuarioId in notas['usuarioId'].unique():\n",
        "    informacoes = distancia_de_usuarios(voce_id, usuarioId)\n",
        "    distancias.append(informacoes)\n",
        "  distancias = pd.DataFrame(distancias, columns = ['voce', 'outra_pessoa', 'distancia'])\n",
        "  return distancias"
      ],
      "execution_count": 30,
      "outputs": []
    },
    {
      "cell_type": "code",
      "metadata": {
        "id": "fJSBnkVD16fy"
      },
      "source": [
        "def mais_proximos_de(voceId):\n",
        "  distancias = distancia_de_todos(voceId).sort_values('distancia')\n",
        "  distancias = distancias.set_index('outra_pessoa').drop(voceId)\n",
        "  return distancias"
      ],
      "execution_count": 31,
      "outputs": []
    },
    {
      "cell_type": "code",
      "metadata": {
        "colab": {
          "base_uri": "https://localhost:8080/",
          "height": 0
        },
        "id": "s9AIudzh2PZo",
        "outputId": "2f2bbc67-ddf5-4497-bd91-94ad7eae906f"
      },
      "source": [
        "mais_proximos_de(1).head()"
      ],
      "execution_count": 32,
      "outputs": [
        {
          "output_type": "execute_result",
          "data": {
            "text/html": [
              "<div>\n",
              "<style scoped>\n",
              "    .dataframe tbody tr th:only-of-type {\n",
              "        vertical-align: middle;\n",
              "    }\n",
              "\n",
              "    .dataframe tbody tr th {\n",
              "        vertical-align: top;\n",
              "    }\n",
              "\n",
              "    .dataframe thead th {\n",
              "        text-align: right;\n",
              "    }\n",
              "</style>\n",
              "<table border=\"1\" class=\"dataframe\">\n",
              "  <thead>\n",
              "    <tr style=\"text-align: right;\">\n",
              "      <th></th>\n",
              "      <th>voce</th>\n",
              "      <th>distancia</th>\n",
              "    </tr>\n",
              "    <tr>\n",
              "      <th>outra_pessoa</th>\n",
              "      <th></th>\n",
              "      <th></th>\n",
              "    </tr>\n",
              "  </thead>\n",
              "  <tbody>\n",
              "    <tr>\n",
              "      <th>77</th>\n",
              "      <td>1</td>\n",
              "      <td>0.000000</td>\n",
              "    </tr>\n",
              "    <tr>\n",
              "      <th>511</th>\n",
              "      <td>1</td>\n",
              "      <td>0.500000</td>\n",
              "    </tr>\n",
              "    <tr>\n",
              "      <th>366</th>\n",
              "      <td>1</td>\n",
              "      <td>0.707107</td>\n",
              "    </tr>\n",
              "    <tr>\n",
              "      <th>523</th>\n",
              "      <td>1</td>\n",
              "      <td>1.000000</td>\n",
              "    </tr>\n",
              "    <tr>\n",
              "      <th>49</th>\n",
              "      <td>1</td>\n",
              "      <td>1.000000</td>\n",
              "    </tr>\n",
              "  </tbody>\n",
              "</table>\n",
              "</div>"
            ],
            "text/plain": [
              "              voce  distancia\n",
              "outra_pessoa                 \n",
              "77               1   0.000000\n",
              "511              1   0.500000\n",
              "366              1   0.707107\n",
              "523              1   1.000000\n",
              "49               1   1.000000"
            ]
          },
          "metadata": {},
          "execution_count": 32
        }
      ]
    },
    {
      "cell_type": "markdown",
      "metadata": {
        "id": "UAmAWISP_NDg"
      },
      "source": [
        "## Parâmetros para teste"
      ]
    },
    {
      "cell_type": "code",
      "metadata": {
        "id": "UcRlgUZbFWb3"
      },
      "source": [
        "def distancia_de_usuarios(usuarioId1, usuarioId2, minimo = 5):\n",
        "  notas1 = notas_do_usuario(usuarioId1)\n",
        "  notas2 = notas_do_usuario(usuarioId2)\n",
        "\n",
        "  diferencas = notas1.join(notas2, lsuffix = '_1', rsuffix = '_2').dropna()\n",
        "\n",
        "  if (len(diferencas) < minimo):\n",
        "    return None\n",
        "\n",
        "  distancia = distancia_de_vetores(diferencas['nota_1'], diferencas['nota_2'])\n",
        "\n",
        "  return [usuarioId1, usuarioId2, distancia]"
      ],
      "execution_count": 33,
      "outputs": []
    },
    {
      "cell_type": "code",
      "metadata": {
        "id": "Q1X7TrxfAG01"
      },
      "source": [
        "def distancia_de_todos(voce_id, n = None): # n é o número de usuários a serem analisados, em ordem\n",
        "  distancias = []\n",
        "  todos_os_usuarios = notas['usuarioId'].unique()\n",
        "  if n:\n",
        "    todos_os_usuarios = notas['usuarioId'].unique()[:n]\n",
        "  for usuarioId in todos_os_usuarios:\n",
        "    informacoes = distancia_de_usuarios(voce_id, usuarioId)\n",
        "    distancias.append(informacoes)\n",
        "  distancias = list(filter(None, distancias)) # filtro para retirar quem não tem nada haver com o usuário\n",
        "  distancias = pd.DataFrame(distancias, columns = ['voce', 'outra_pessoa', 'distancia'])\n",
        "  return distancias"
      ],
      "execution_count": 34,
      "outputs": []
    },
    {
      "cell_type": "code",
      "metadata": {
        "id": "k-8K9KUU3Pjw"
      },
      "source": [
        "def mais_proximos_de(voceId, n = None):\n",
        "  distancias = distancia_de_todos(voceId, n = n).sort_values('distancia')\n",
        "  distancias = distancias.set_index('outra_pessoa').drop(voceId)\n",
        "  return distancias"
      ],
      "execution_count": 35,
      "outputs": []
    },
    {
      "cell_type": "code",
      "metadata": {
        "colab": {
          "base_uri": "https://localhost:8080/",
          "height": 234
        },
        "id": "Y10nP_U9Bexd",
        "outputId": "2ad275bd-e0ad-49fc-a026-b3bfbc8bc2f1"
      },
      "source": [
        "mais_proximos_de(1, n = 50).head()"
      ],
      "execution_count": 36,
      "outputs": [
        {
          "output_type": "execute_result",
          "data": {
            "text/html": [
              "<div>\n",
              "<style scoped>\n",
              "    .dataframe tbody tr th:only-of-type {\n",
              "        vertical-align: middle;\n",
              "    }\n",
              "\n",
              "    .dataframe tbody tr th {\n",
              "        vertical-align: top;\n",
              "    }\n",
              "\n",
              "    .dataframe thead th {\n",
              "        text-align: right;\n",
              "    }\n",
              "</style>\n",
              "<table border=\"1\" class=\"dataframe\">\n",
              "  <thead>\n",
              "    <tr style=\"text-align: right;\">\n",
              "      <th></th>\n",
              "      <th>voce</th>\n",
              "      <th>distancia</th>\n",
              "    </tr>\n",
              "    <tr>\n",
              "      <th>outra_pessoa</th>\n",
              "      <th></th>\n",
              "      <th></th>\n",
              "    </tr>\n",
              "  </thead>\n",
              "  <tbody>\n",
              "    <tr>\n",
              "      <th>49</th>\n",
              "      <td>1</td>\n",
              "      <td>1.000000</td>\n",
              "    </tr>\n",
              "    <tr>\n",
              "      <th>9</th>\n",
              "      <td>1</td>\n",
              "      <td>1.000000</td>\n",
              "    </tr>\n",
              "    <tr>\n",
              "      <th>25</th>\n",
              "      <td>1</td>\n",
              "      <td>1.414214</td>\n",
              "    </tr>\n",
              "    <tr>\n",
              "      <th>13</th>\n",
              "      <td>1</td>\n",
              "      <td>1.414214</td>\n",
              "    </tr>\n",
              "    <tr>\n",
              "      <th>30</th>\n",
              "      <td>1</td>\n",
              "      <td>1.802776</td>\n",
              "    </tr>\n",
              "  </tbody>\n",
              "</table>\n",
              "</div>"
            ],
            "text/plain": [
              "              voce  distancia\n",
              "outra_pessoa                 \n",
              "49               1   1.000000\n",
              "9                1   1.000000\n",
              "25               1   1.414214\n",
              "13               1   1.414214\n",
              "30               1   1.802776"
            ]
          },
          "metadata": {},
          "execution_count": 36
        }
      ]
    },
    {
      "cell_type": "code",
      "metadata": {
        "id": "mr1pg3_pBivS"
      },
      "source": [
        "def sugere_para(voce, n = None):\n",
        "\n",
        "  notas_de_voce = notas_do_usuario(voce)\n",
        "\n",
        "  similares = mais_proximos_de(voce, n = n)\n",
        "\n",
        "  similar = similares.iloc[0].name\n",
        "\n",
        "  notas_do_similar = notas_do_usuario(similar).drop(notas_de_voce.index, errors = 'ignore')\n",
        "\n",
        "  recomendacoes = notas_do_similar.sort_values('nota', ascending = False)\n",
        "\n",
        "  return recomendacoes.join(filmes)"
      ],
      "execution_count": 37,
      "outputs": []
    },
    {
      "cell_type": "markdown",
      "metadata": {
        "id": "VvfpepIilclM"
      },
      "source": [
        "A função acima pega o usuário mais similar a um determinado usuário X e seleciona os filmes que o mais similar já viu e que o outro usuário X não tenha visto. Desse modo, os filmes que o mais similar já viu e o usuário X não viu serão as melhores recomendações a este, ordenados da maior para menor nota."
      ]
    },
    {
      "cell_type": "code",
      "metadata": {
        "colab": {
          "base_uri": "https://localhost:8080/",
          "height": 234
        },
        "id": "y-Kmk7Cviyj1",
        "outputId": "4ac0d0bc-fc71-4aac-85d2-0a88941053d1"
      },
      "source": [
        "sugere_para(1).head()"
      ],
      "execution_count": 38,
      "outputs": [
        {
          "output_type": "execute_result",
          "data": {
            "text/html": [
              "<div>\n",
              "<style scoped>\n",
              "    .dataframe tbody tr th:only-of-type {\n",
              "        vertical-align: middle;\n",
              "    }\n",
              "\n",
              "    .dataframe tbody tr th {\n",
              "        vertical-align: top;\n",
              "    }\n",
              "\n",
              "    .dataframe thead th {\n",
              "        text-align: right;\n",
              "    }\n",
              "</style>\n",
              "<table border=\"1\" class=\"dataframe\">\n",
              "  <thead>\n",
              "    <tr style=\"text-align: right;\">\n",
              "      <th></th>\n",
              "      <th>nota</th>\n",
              "      <th>titulo</th>\n",
              "      <th>genero</th>\n",
              "      <th>total_de_votos</th>\n",
              "      <th>notas_medias</th>\n",
              "    </tr>\n",
              "    <tr>\n",
              "      <th>filmeId</th>\n",
              "      <th></th>\n",
              "      <th></th>\n",
              "      <th></th>\n",
              "      <th></th>\n",
              "      <th></th>\n",
              "    </tr>\n",
              "  </thead>\n",
              "  <tbody>\n",
              "    <tr>\n",
              "      <th>8636</th>\n",
              "      <td>5.0</td>\n",
              "      <td>Spider-Man 2 (2004)</td>\n",
              "      <td>Action|Adventure|Sci-Fi|IMAX</td>\n",
              "      <td>79.0</td>\n",
              "      <td>3.803797</td>\n",
              "    </tr>\n",
              "    <tr>\n",
              "      <th>58559</th>\n",
              "      <td>5.0</td>\n",
              "      <td>Dark Knight, The (2008)</td>\n",
              "      <td>Action|Crime|Drama|IMAX</td>\n",
              "      <td>149.0</td>\n",
              "      <td>4.238255</td>\n",
              "    </tr>\n",
              "    <tr>\n",
              "      <th>33794</th>\n",
              "      <td>5.0</td>\n",
              "      <td>Batman Begins (2005)</td>\n",
              "      <td>Action|Crime|IMAX</td>\n",
              "      <td>116.0</td>\n",
              "      <td>3.862069</td>\n",
              "    </tr>\n",
              "    <tr>\n",
              "      <th>4993</th>\n",
              "      <td>5.0</td>\n",
              "      <td>Lord of the Rings: The Fellowship of the Ring,...</td>\n",
              "      <td>Adventure|Fantasy</td>\n",
              "      <td>198.0</td>\n",
              "      <td>4.106061</td>\n",
              "    </tr>\n",
              "    <tr>\n",
              "      <th>5349</th>\n",
              "      <td>5.0</td>\n",
              "      <td>Spider-Man (2002)</td>\n",
              "      <td>Action|Adventure|Sci-Fi|Thriller</td>\n",
              "      <td>122.0</td>\n",
              "      <td>3.540984</td>\n",
              "    </tr>\n",
              "  </tbody>\n",
              "</table>\n",
              "</div>"
            ],
            "text/plain": [
              "         nota  ... notas_medias\n",
              "filmeId        ...             \n",
              "8636      5.0  ...     3.803797\n",
              "58559     5.0  ...     4.238255\n",
              "33794     5.0  ...     3.862069\n",
              "4993      5.0  ...     4.106061\n",
              "5349      5.0  ...     3.540984\n",
              "\n",
              "[5 rows x 5 columns]"
            ]
          },
          "metadata": {},
          "execution_count": 38
        }
      ]
    },
    {
      "cell_type": "markdown",
      "metadata": {
        "id": "e2AnEml3F3oN"
      },
      "source": [
        "### Sugerindo com base em vários usuários\n",
        "\n",
        "É importante não se limitar apenas ao mais similar que o usuário X, uma vez que ele pode apresentar gostos de nicho, isto é, filmes muito específicos que 'apenas' ele gosta e que o usuário X não tem motivos para gostar também."
      ]
    },
    {
      "cell_type": "code",
      "metadata": {
        "id": "vZJBMbgvGVNW"
      },
      "source": [
        "def mais_proximos_de(voceId, n_mais_proximos = 10, n = None):\n",
        "  distancias = distancia_de_todos(voceId, n = n).sort_values('distancia')\n",
        "  distancias = distancias.set_index('outra_pessoa').drop(voceId)\n",
        "  return distancias.head(n_mais_proximos)"
      ],
      "execution_count": 39,
      "outputs": []
    },
    {
      "cell_type": "code",
      "metadata": {
        "id": "MN4xYJHwj9Iu"
      },
      "source": [
        "def sugere_para(voce, n_mais_proximos = 10, n = None):\n",
        "  notas_de_voce = notas_do_usuario(voce)\n",
        "  filmes_que_voce_ja_assistiu = notas_de_voce.index\n",
        "  similares = mais_proximos_de(voce, n_mais_proximos = n_mais_proximos,  n = n)\n",
        "  usuarios_similares = similares.index\n",
        "  notas_dos_similares = notas.set_index('usuarioId').loc[usuarios_similares]\n",
        "  recomendacoes = notas_dos_similares.groupby('filmeId').mean()[['nota']]\n",
        "  recomendacoes = recomendacoes.sort_values('nota', ascending = False)\n",
        "  return recomendacoes.join(filmes).head()"
      ],
      "execution_count": 40,
      "outputs": []
    },
    {
      "cell_type": "code",
      "metadata": {
        "colab": {
          "base_uri": "https://localhost:8080/",
          "height": 234
        },
        "id": "D8hcbzT0OVWP",
        "outputId": "b8c3199f-a8b2-44b5-bef1-42906eae1c50"
      },
      "source": [
        "sugere_para(1) # Sugestões com base nos 10 usuários mais próximos"
      ],
      "execution_count": 41,
      "outputs": [
        {
          "output_type": "execute_result",
          "data": {
            "text/html": [
              "<div>\n",
              "<style scoped>\n",
              "    .dataframe tbody tr th:only-of-type {\n",
              "        vertical-align: middle;\n",
              "    }\n",
              "\n",
              "    .dataframe tbody tr th {\n",
              "        vertical-align: top;\n",
              "    }\n",
              "\n",
              "    .dataframe thead th {\n",
              "        text-align: right;\n",
              "    }\n",
              "</style>\n",
              "<table border=\"1\" class=\"dataframe\">\n",
              "  <thead>\n",
              "    <tr style=\"text-align: right;\">\n",
              "      <th></th>\n",
              "      <th>nota</th>\n",
              "      <th>titulo</th>\n",
              "      <th>genero</th>\n",
              "      <th>total_de_votos</th>\n",
              "      <th>notas_medias</th>\n",
              "    </tr>\n",
              "    <tr>\n",
              "      <th>filmeId</th>\n",
              "      <th></th>\n",
              "      <th></th>\n",
              "      <th></th>\n",
              "      <th></th>\n",
              "      <th></th>\n",
              "    </tr>\n",
              "  </thead>\n",
              "  <tbody>\n",
              "    <tr>\n",
              "      <th>1704</th>\n",
              "      <td>5.0</td>\n",
              "      <td>Good Will Hunting (1997)</td>\n",
              "      <td>Drama|Romance</td>\n",
              "      <td>141.0</td>\n",
              "      <td>4.078014</td>\n",
              "    </tr>\n",
              "    <tr>\n",
              "      <th>57504</th>\n",
              "      <td>5.0</td>\n",
              "      <td>Girl Who Leapt Through Time, The (Toki o kaker...</td>\n",
              "      <td>Animation|Comedy|Drama|Romance|Sci-Fi</td>\n",
              "      <td>10.0</td>\n",
              "      <td>4.100000</td>\n",
              "    </tr>\n",
              "    <tr>\n",
              "      <th>38304</th>\n",
              "      <td>5.0</td>\n",
              "      <td>No Direction Home: Bob Dylan (2005)</td>\n",
              "      <td>Documentary</td>\n",
              "      <td>4.0</td>\n",
              "      <td>4.625000</td>\n",
              "    </tr>\n",
              "    <tr>\n",
              "      <th>48394</th>\n",
              "      <td>5.0</td>\n",
              "      <td>Pan's Labyrinth (Laberinto del fauno, El) (2006)</td>\n",
              "      <td>Drama|Fantasy|Thriller</td>\n",
              "      <td>81.0</td>\n",
              "      <td>3.814815</td>\n",
              "    </tr>\n",
              "    <tr>\n",
              "      <th>2300</th>\n",
              "      <td>5.0</td>\n",
              "      <td>Producers, The (1968)</td>\n",
              "      <td>Comedy</td>\n",
              "      <td>33.0</td>\n",
              "      <td>3.969697</td>\n",
              "    </tr>\n",
              "  </tbody>\n",
              "</table>\n",
              "</div>"
            ],
            "text/plain": [
              "         nota  ... notas_medias\n",
              "filmeId        ...             \n",
              "1704      5.0  ...     4.078014\n",
              "57504     5.0  ...     4.100000\n",
              "38304     5.0  ...     4.625000\n",
              "48394     5.0  ...     3.814815\n",
              "2300      5.0  ...     3.969697\n",
              "\n",
              "[5 rows x 5 columns]"
            ]
          },
          "metadata": {},
          "execution_count": 41
        }
      ]
    },
    {
      "cell_type": "markdown",
      "metadata": {
        "id": "G3Na69hTPL8C"
      },
      "source": [
        "As sugestões mostradas ainda exibem filmes de nicho (filmes pouco famosos, com poucos votos, e que alguém gosta devido a um gosto extremamente pessoal).\n",
        "\n",
        "Para isso, vamos filtrar para exibir apenas os filmes com mais de 25 votos."
      ]
    },
    {
      "cell_type": "code",
      "metadata": {
        "id": "W2qxg8sCPcX4"
      },
      "source": [
        "notas = notas.set_index('filmeId').loc[filmes_com_mais_de_25_votos.index]"
      ],
      "execution_count": 42,
      "outputs": []
    },
    {
      "cell_type": "code",
      "metadata": {
        "id": "Tq6i2DsaPuCe"
      },
      "source": [
        "notas = notas.reset_index()"
      ],
      "execution_count": 43,
      "outputs": []
    },
    {
      "cell_type": "code",
      "metadata": {
        "colab": {
          "base_uri": "https://localhost:8080/",
          "height": 234
        },
        "id": "_drRKt9gRBUO",
        "outputId": "9e550bb8-8553-43e3-e6dc-3cb800b0c444"
      },
      "source": [
        "sugere_para(1) # Sugestões baseadas em filmes razoavelmente populares"
      ],
      "execution_count": 44,
      "outputs": [
        {
          "output_type": "execute_result",
          "data": {
            "text/html": [
              "<div>\n",
              "<style scoped>\n",
              "    .dataframe tbody tr th:only-of-type {\n",
              "        vertical-align: middle;\n",
              "    }\n",
              "\n",
              "    .dataframe tbody tr th {\n",
              "        vertical-align: top;\n",
              "    }\n",
              "\n",
              "    .dataframe thead th {\n",
              "        text-align: right;\n",
              "    }\n",
              "</style>\n",
              "<table border=\"1\" class=\"dataframe\">\n",
              "  <thead>\n",
              "    <tr style=\"text-align: right;\">\n",
              "      <th></th>\n",
              "      <th>nota</th>\n",
              "      <th>titulo</th>\n",
              "      <th>genero</th>\n",
              "      <th>total_de_votos</th>\n",
              "      <th>notas_medias</th>\n",
              "    </tr>\n",
              "    <tr>\n",
              "      <th>filmeId</th>\n",
              "      <th></th>\n",
              "      <th></th>\n",
              "      <th></th>\n",
              "      <th></th>\n",
              "      <th></th>\n",
              "    </tr>\n",
              "  </thead>\n",
              "  <tbody>\n",
              "    <tr>\n",
              "      <th>5902</th>\n",
              "      <td>5.0</td>\n",
              "      <td>Adaptation (2002)</td>\n",
              "      <td>Comedy|Drama|Romance</td>\n",
              "      <td>46.0</td>\n",
              "      <td>3.945652</td>\n",
              "    </tr>\n",
              "    <tr>\n",
              "      <th>1207</th>\n",
              "      <td>5.0</td>\n",
              "      <td>To Kill a Mockingbird (1962)</td>\n",
              "      <td>Drama</td>\n",
              "      <td>58.0</td>\n",
              "      <td>4.120690</td>\n",
              "    </tr>\n",
              "    <tr>\n",
              "      <th>1028</th>\n",
              "      <td>5.0</td>\n",
              "      <td>Mary Poppins (1964)</td>\n",
              "      <td>Children|Comedy|Fantasy|Musical</td>\n",
              "      <td>71.0</td>\n",
              "      <td>3.887324</td>\n",
              "    </tr>\n",
              "    <tr>\n",
              "      <th>5971</th>\n",
              "      <td>5.0</td>\n",
              "      <td>My Neighbor Totoro (Tonari no Totoro) (1988)</td>\n",
              "      <td>Animation|Children|Drama|Fantasy</td>\n",
              "      <td>37.0</td>\n",
              "      <td>3.959459</td>\n",
              "    </tr>\n",
              "    <tr>\n",
              "      <th>5952</th>\n",
              "      <td>5.0</td>\n",
              "      <td>Lord of the Rings: The Two Towers, The (2002)</td>\n",
              "      <td>Adventure|Fantasy</td>\n",
              "      <td>188.0</td>\n",
              "      <td>4.021277</td>\n",
              "    </tr>\n",
              "  </tbody>\n",
              "</table>\n",
              "</div>"
            ],
            "text/plain": [
              "         nota  ... notas_medias\n",
              "filmeId        ...             \n",
              "5902      5.0  ...     3.945652\n",
              "1207      5.0  ...     4.120690\n",
              "1028      5.0  ...     3.887324\n",
              "5971      5.0  ...     3.959459\n",
              "5952      5.0  ...     4.021277\n",
              "\n",
              "[5 rows x 5 columns]"
            ]
          },
          "metadata": {},
          "execution_count": 44
        }
      ]
    },
    {
      "cell_type": "markdown",
      "metadata": {
        "id": "h_e-Z5NmSYZi"
      },
      "source": [
        "### Refinando para quantidade mínima de usuários que assistiram ao filme"
      ]
    },
    {
      "cell_type": "code",
      "metadata": {
        "id": "WAN_AOdYREmt"
      },
      "source": [
        "def mais_proximos_de(voceId, n_mais_proximos = 10, n = None):\n",
        "  distancias = distancia_de_todos(voceId, n = n).sort_values('distancia')\n",
        "  distancias = distancias.set_index('outra_pessoa').drop(voceId, errors = 'ignore')\n",
        "  return distancias.head(n_mais_proximos)"
      ],
      "execution_count": 45,
      "outputs": []
    },
    {
      "cell_type": "code",
      "metadata": {
        "id": "55uHRqtZSheW"
      },
      "source": [
        "def sugere_para(voce, n_mais_proximos = 10, n = None):\n",
        "  notas_de_voce = notas_do_usuario(voce)\n",
        "  filmes_que_voce_ja_assistiu = notas_de_voce.index\n",
        "  similares = mais_proximos_de(voce, n_mais_proximos = n_mais_proximos,  n = n)\n",
        "  usuarios_similares = similares.index\n",
        "  notas_dos_similares = notas.set_index('usuarioId').loc[usuarios_similares]\n",
        "  recomendacoes = notas_dos_similares.groupby('filmeId').mean()[['nota']]\n",
        "  aparicoes = notas_dos_similares.groupby('filmeId').count()[['nota']]\n",
        "  filtro_minimo = n_mais_proximos/2\n",
        "  recomendacoes = recomendacoes.join(aparicoes, lsuffix = '_media_dos_usuarios', rsuffix = '_qntd_de_usuarios_que_assistiram')\n",
        "  recomendacoes = recomendacoes.query(f'nota_qntd_de_usuarios_que_assistiram >= {filtro_minimo}')\n",
        "  recomendacoes = recomendacoes.sort_values('nota_media_dos_usuarios', ascending = False)\n",
        "  recomendacoes = recomendacoes.drop(filmes_que_voce_ja_assistiu, errors = 'ignore')\n",
        "  return recomendacoes.join(filmes).head()"
      ],
      "execution_count": 51,
      "outputs": []
    },
    {
      "cell_type": "code",
      "metadata": {
        "colab": {
          "base_uri": "https://localhost:8080/",
          "height": 234
        },
        "id": "VDOGZE3hTV9W",
        "outputId": "53090fcd-0741-489a-9694-4f0641c14547"
      },
      "source": [
        "sugere_para(1) # Sugestões com base também na quantidade de pessoas que assistiram"
      ],
      "execution_count": 52,
      "outputs": [
        {
          "output_type": "execute_result",
          "data": {
            "text/html": [
              "<div>\n",
              "<style scoped>\n",
              "    .dataframe tbody tr th:only-of-type {\n",
              "        vertical-align: middle;\n",
              "    }\n",
              "\n",
              "    .dataframe tbody tr th {\n",
              "        vertical-align: top;\n",
              "    }\n",
              "\n",
              "    .dataframe thead th {\n",
              "        text-align: right;\n",
              "    }\n",
              "</style>\n",
              "<table border=\"1\" class=\"dataframe\">\n",
              "  <thead>\n",
              "    <tr style=\"text-align: right;\">\n",
              "      <th></th>\n",
              "      <th>nota_media_dos_usuarios</th>\n",
              "      <th>nota_qntd_de_usuarios_que_assistiram</th>\n",
              "      <th>titulo</th>\n",
              "      <th>genero</th>\n",
              "      <th>total_de_votos</th>\n",
              "      <th>notas_medias</th>\n",
              "    </tr>\n",
              "    <tr>\n",
              "      <th>filmeId</th>\n",
              "      <th></th>\n",
              "      <th></th>\n",
              "      <th></th>\n",
              "      <th></th>\n",
              "      <th></th>\n",
              "      <th></th>\n",
              "    </tr>\n",
              "  </thead>\n",
              "  <tbody>\n",
              "    <tr>\n",
              "      <th>7153</th>\n",
              "      <td>4.700000</td>\n",
              "      <td>5</td>\n",
              "      <td>Lord of the Rings: The Return of the King, The...</td>\n",
              "      <td>Action|Adventure|Drama|Fantasy</td>\n",
              "      <td>185.0</td>\n",
              "      <td>4.118919</td>\n",
              "    </tr>\n",
              "    <tr>\n",
              "      <th>58559</th>\n",
              "      <td>4.700000</td>\n",
              "      <td>5</td>\n",
              "      <td>Dark Knight, The (2008)</td>\n",
              "      <td>Action|Crime|Drama|IMAX</td>\n",
              "      <td>149.0</td>\n",
              "      <td>4.238255</td>\n",
              "    </tr>\n",
              "    <tr>\n",
              "      <th>4993</th>\n",
              "      <td>4.666667</td>\n",
              "      <td>6</td>\n",
              "      <td>Lord of the Rings: The Fellowship of the Ring,...</td>\n",
              "      <td>Adventure|Fantasy</td>\n",
              "      <td>198.0</td>\n",
              "      <td>4.106061</td>\n",
              "    </tr>\n",
              "    <tr>\n",
              "      <th>318</th>\n",
              "      <td>4.583333</td>\n",
              "      <td>6</td>\n",
              "      <td>Shawshank Redemption, The (1994)</td>\n",
              "      <td>Crime|Drama</td>\n",
              "      <td>317.0</td>\n",
              "      <td>4.429022</td>\n",
              "    </tr>\n",
              "    <tr>\n",
              "      <th>109487</th>\n",
              "      <td>4.583333</td>\n",
              "      <td>6</td>\n",
              "      <td>Interstellar (2014)</td>\n",
              "      <td>Sci-Fi|IMAX</td>\n",
              "      <td>73.0</td>\n",
              "      <td>3.993151</td>\n",
              "    </tr>\n",
              "  </tbody>\n",
              "</table>\n",
              "</div>"
            ],
            "text/plain": [
              "         nota_media_dos_usuarios  ...  notas_medias\n",
              "filmeId                           ...              \n",
              "7153                    4.700000  ...      4.118919\n",
              "58559                   4.700000  ...      4.238255\n",
              "4993                    4.666667  ...      4.106061\n",
              "318                     4.583333  ...      4.429022\n",
              "109487                  4.583333  ...      3.993151\n",
              "\n",
              "[5 rows x 6 columns]"
            ]
          },
          "metadata": {},
          "execution_count": 52
        }
      ]
    },
    {
      "cell_type": "code",
      "metadata": {
        "id": "NpGCAB12UdNU"
      },
      "source": [
        ""
      ],
      "execution_count": null,
      "outputs": []
    }
  ]
}